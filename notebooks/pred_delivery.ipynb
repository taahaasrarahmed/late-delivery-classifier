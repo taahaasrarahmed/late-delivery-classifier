{
 "cells": [
  {
   "cell_type": "code",
   "execution_count": 1,
   "id": "4a266e93-2176-4e75-af2d-9f20083c84b9",
   "metadata": {
    "execution": {
     "iopub.execute_input": "2025-08-19T13:46:36.333555Z",
     "iopub.status.busy": "2025-08-19T13:46:36.331533Z",
     "iopub.status.idle": "2025-08-19T13:46:48.564179Z",
     "shell.execute_reply": "2025-08-19T13:46:48.562404Z",
     "shell.execute_reply.started": "2025-08-19T13:46:36.333555Z"
    }
   },
   "outputs": [],
   "source": [
    "# Load files \n",
    "import pandas as pd\n",
    "\n",
    "orders = pd.read_csv(\"olist_orders_dataset.csv\", \n",
    "                     usecols=[\"order_id\",\"customer_id\",\"order_purchase_timestamp\",\n",
    "                              \"order_delivered_customer_date\", 'order_approved_at', \"order_estimated_delivery_date\",\n",
    "                              \"order_status\"])\n",
    "\n",
    "\n",
    "order_items = pd.read_csv(\"olist_order_items_dataset.csv\", \n",
    "                          usecols=[\"order_id\",\"product_id\",\"seller_id\",\"price\",\"freight_value\"])\n",
    "\n",
    "\n",
    "products = pd.read_csv(\"olist_products_dataset.csv\", \n",
    "                       usecols=[\"product_id\",\"product_category_name\",\"product_weight_g\",\n",
    "                                \"product_length_cm\",\"product_height_cm\",\"product_width_cm\"])\n",
    "\n",
    "\n",
    "sellers = pd.read_csv(\"olist_sellers_dataset.csv\", \n",
    "                      usecols=[\"seller_id\",\"seller_zip_code_prefix\",\"seller_city\",\"seller_state\"])\n",
    "\n",
    "\n",
    "customers = pd.read_csv(\"olist_customers_dataset.csv\", \n",
    "                        usecols=[\"customer_id\",\"customer_zip_code_prefix\",\"customer_city\",\"customer_state\"])\n",
    "\n",
    "reviews = pd.read_csv('olist_order_reviews_dataset.csv', usecols=['review_score', 'order_id'])\n",
    "\n",
    "\n",
    "# Set each city to one geolocation coordinate before merging\n",
    "geolocation = pd.read_csv('olist_geolocation_dataset.csv')\n",
    "city_geo = (\n",
    "    geolocation\n",
    "    .groupby('geolocation_city', as_index=False)\n",
    "    .agg(geolocation_lat=('geolocation_lat','mean'),\n",
    "         geolocation_lng=('geolocation_lng','mean'))\n",
    "    .rename(columns={'geolocation_lat':'city_lat','geolocation_lng':'city_lng'})\n",
    ")\n",
    "\n",
    "# Prep two lookup tables: one for customer_city, one for seller_city\n",
    "city_geo_cust = city_geo.rename(columns={\n",
    "    'geolocation_city':'customer_city',\n",
    "    'city_lat':'cust_lat',\n",
    "    'city_lng':'cust_lng'\n",
    "})\n",
    "city_geo_sell = city_geo.rename(columns={\n",
    "    'geolocation_city':'seller_city',\n",
    "    'city_lat':'sell_lat',\n",
    "    'city_lng':'sell_lng'\n",
    "})\n",
    "\n",
    "\n"
   ]
  },
  {
   "cell_type": "code",
   "execution_count": 2,
   "id": "a1947608-f065-4a5b-81c7-e1da5fa9bce0",
   "metadata": {
    "execution": {
     "iopub.execute_input": "2025-08-19T13:46:48.568308Z",
     "iopub.status.busy": "2025-08-19T13:46:48.564179Z",
     "iopub.status.idle": "2025-08-19T13:46:48.646573Z",
     "shell.execute_reply": "2025-08-19T13:46:48.644516Z",
     "shell.execute_reply.started": "2025-08-19T13:46:48.568308Z"
    }
   },
   "outputs": [],
   "source": [
    "# Filter delivered orders\n",
    "\n",
    "orders = orders[orders[\"order_status\"] == \"delivered\"].copy()"
   ]
  },
  {
   "cell_type": "code",
   "execution_count": null,
   "id": "bb99deb9-5e3d-47bb-9301-228faabc096c",
   "metadata": {},
   "outputs": [],
   "source": []
  },
  {
   "cell_type": "code",
   "execution_count": 3,
   "id": "a8cc3d3c-ff03-481c-8a21-779d4ba95697",
   "metadata": {
    "execution": {
     "iopub.execute_input": "2025-08-19T13:46:48.652922Z",
     "iopub.status.busy": "2025-08-19T13:46:48.652062Z",
     "iopub.status.idle": "2025-08-19T13:46:50.091688Z",
     "shell.execute_reply": "2025-08-19T13:46:50.091688Z",
     "shell.execute_reply.started": "2025-08-19T13:46:48.652922Z"
    }
   },
   "outputs": [],
   "source": [
    "# Merge all CSV's\n",
    "\n",
    "df = orders.merge(order_items, on=\"order_id\", how=\"left\")\n",
    "df = df.merge(products, on=\"product_id\", how=\"left\")\n",
    "df = df.merge(sellers, on=\"seller_id\", how=\"left\")\n",
    "df = df.merge(customers, on=\"customer_id\", how=\"left\")\n",
    "df = df.merge(reviews, on=\"order_id\", how=\"left\")\n",
    "\n",
    "df = df.merge(city_geo_cust, on='customer_city', how='left')\n",
    "df = df.merge(city_geo_sell, on='seller_city',  how='left')\n",
    "\n",
    "#df.head()"
   ]
  },
  {
   "cell_type": "code",
   "execution_count": 4,
   "id": "67377761-a071-4fdd-b4db-dc69001a7c58",
   "metadata": {
    "execution": {
     "iopub.execute_input": "2025-08-19T13:46:50.098818Z",
     "iopub.status.busy": "2025-08-19T13:46:50.095684Z",
     "iopub.status.idle": "2025-08-19T13:46:50.119681Z",
     "shell.execute_reply": "2025-08-19T13:46:50.119681Z",
     "shell.execute_reply.started": "2025-08-19T13:46:50.098818Z"
    }
   },
   "outputs": [],
   "source": [
    "# Calculate distance fucntion\n",
    "\n",
    "import numpy as np\n",
    "\n",
    "def haversine(lat1, lon1, lat2, lon2):\n",
    "    R = 6371.0  # km\n",
    "    lat1, lon1, lat2, lon2 = map(np.radians, [lat1, lon1, lat2, lon2])\n",
    "    dlat, dlon = lat2 - lat1, lon2 - lon1\n",
    "    a = np.sin(dlat/2.0)**2 + np.cos(lat1)*np.cos(lat2)*np.sin(dlon/2.0)**2\n",
    "    return 2 * R * np.arcsin(np.sqrt(a))"
   ]
  },
  {
   "cell_type": "code",
   "execution_count": 5,
   "id": "f464d380-396d-4738-8e6d-35495801833f",
   "metadata": {
    "execution": {
     "iopub.execute_input": "2025-08-19T13:46:50.124727Z",
     "iopub.status.busy": "2025-08-19T13:46:50.124727Z",
     "iopub.status.idle": "2025-08-19T13:46:50.515586Z",
     "shell.execute_reply": "2025-08-19T13:46:50.514036Z",
     "shell.execute_reply.started": "2025-08-19T13:46:50.124727Z"
    }
   },
   "outputs": [],
   "source": [
    "df[\"order_purchase_timestamp\"] = pd.to_datetime(df[\"order_purchase_timestamp\"])\n",
    "df[\"order_delivered_customer_date\"] = pd.to_datetime(df[\"order_delivered_customer_date\"])\n",
    "df[\"order_estimated_delivery_date\"] = pd.to_datetime(df[\"order_estimated_delivery_date\"])\n",
    "\n",
    "df[\"is_late\"] = (df[\"order_delivered_customer_date\"] > df[\"order_estimated_delivery_date\"]).astype(int)\n",
    "\n",
    "#df[\"is_late\"].value_counts()\n",
    "#df.head()"
   ]
  },
  {
   "cell_type": "code",
   "execution_count": 6,
   "id": "d1a3204f-fdab-4d83-95ab-a05466380dc5",
   "metadata": {
    "execution": {
     "iopub.execute_input": "2025-08-19T13:46:50.522223Z",
     "iopub.status.busy": "2025-08-19T13:46:50.517180Z",
     "iopub.status.idle": "2025-08-19T13:46:50.584867Z",
     "shell.execute_reply": "2025-08-19T13:46:50.582859Z",
     "shell.execute_reply.started": "2025-08-19T13:46:50.522223Z"
    }
   },
   "outputs": [],
   "source": [
    "# Drop unnecessary columns\n",
    "\n",
    "df = df.drop(['order_id', 'customer_id', 'order_status', 'product_id', 'seller_zip_code_prefix', 'seller_city', 'customer_zip_code_prefix', 'customer_city'], axis = 1)\n",
    "#df.head()"
   ]
  },
  {
   "cell_type": "code",
   "execution_count": 7,
   "id": "44e94b3d-25b3-4e42-bd0f-074a500375af",
   "metadata": {
    "execution": {
     "iopub.execute_input": "2025-08-19T13:46:50.588401Z",
     "iopub.status.busy": "2025-08-19T13:46:50.588401Z",
     "iopub.status.idle": "2025-08-19T13:46:51.134196Z",
     "shell.execute_reply": "2025-08-19T13:46:51.134196Z",
     "shell.execute_reply.started": "2025-08-19T13:46:50.588401Z"
    }
   },
   "outputs": [],
   "source": [
    "# Feature Engineering \n",
    "\n",
    "# Introduce volume\n",
    "df['item_volume'] = df['product_length_cm'] * df['product_height_cm'] * df['product_width_cm']\n",
    "\n",
    "# Introduce freight/price ratio\n",
    "df['freight_to_price'] = df['freight_value'] / df['price']\n",
    "\n",
    "# Grouping top 10 categories\n",
    "top_10 = df[\"product_category_name\"].value_counts().head(10).index\n",
    "df[\"product_category_name\"] = df[\"product_category_name\"].where(\n",
    "    df[\"product_category_name\"].isin(top_10),\n",
    "    \"other\"\n",
    ")\n",
    "\n",
    "# Grouping top 5 states\n",
    "top5_customer = df['customer_state'].value_counts().nlargest(5).index\n",
    "top5_seller   = df['seller_state'].value_counts().nlargest(5).index\n",
    "df['customer_state'] = df['customer_state'].where(\n",
    "    df['customer_state'].isin(top5_customer), 'other'\n",
    ")\n",
    "\n",
    "df['seller_state'] = df['seller_state'].where(\n",
    "    df['seller_state'].isin(top5_seller), 'other'\n",
    ")\n",
    "\n",
    "# Day of week\n",
    "df['order_day_week'] = df['order_purchase_timestamp'].dt.dayofweek\n",
    "\n",
    "# Week of year\n",
    "df['order_week_year'] = df['order_purchase_timestamp'].dt.isocalendar().week.astype(int)\n",
    "\n",
    "# Introduce order at night\n",
    "df['night_order'] = df[\"order_purchase_timestamp\"].dt.hour.isin([20, 21, 22, 23, 0, 1, 2, 3, 4, 5]).astype(int)\n",
    "\n",
    "# Introduce order approval lag (in hours)\n",
    "df['order_purchase_timestamp'] = pd.to_datetime(df['order_purchase_timestamp'])\n",
    "df['order_approved_at'] = pd.to_datetime(df['order_approved_at'])\n",
    "df['approval_lag_hours'] = ((df['order_approved_at'] - df['order_purchase_timestamp']).dt.total_seconds() / 3600).round(1)\n",
    "\n",
    "# Introduce same-state delivery\n",
    "df[\"same_state\"] = (df[\"seller_state\"] == df[\"customer_state\"]).astype(int)\n",
    "\n",
    "# Introduce estimated delivery given\n",
    "df['estimated_delivery_hours'] = (df[\"order_estimated_delivery_date\"] - df[\"order_purchase_timestamp\"]).dt.total_seconds() // 3600\n",
    "\n",
    "# Distance\n",
    "df['distance_km'] = haversine(\n",
    "    df['cust_lat'], df['cust_lng'],\n",
    "    df['sell_lat'], df['sell_lng']\n",
    ")\n",
    "\n",
    "# Distance/Delivery Hour ratio\n",
    "df['distance_hours'] = df['distance_km'] / df['estimated_delivery_hours']"
   ]
  },
  {
   "cell_type": "code",
   "execution_count": 8,
   "id": "6d90c4eb-ca8f-4d59-91e9-30fec27d4e3c",
   "metadata": {
    "execution": {
     "iopub.execute_input": "2025-08-19T13:46:51.141829Z",
     "iopub.status.busy": "2025-08-19T13:46:51.141829Z",
     "iopub.status.idle": "2025-08-19T13:46:51.375528Z",
     "shell.execute_reply": "2025-08-19T13:46:51.375528Z",
     "shell.execute_reply.started": "2025-08-19T13:46:51.141829Z"
    }
   },
   "outputs": [],
   "source": [
    "# Drop columns after feature engineering\n",
    "\n",
    "df = df.drop(['product_width_cm', 'product_length_cm', 'product_height_cm'], axis = 1)\n",
    "df = df.drop(['order_delivered_customer_date'], axis = 1)\n",
    "df = df.drop(['order_purchase_timestamp', 'order_estimated_delivery_date', 'seller_id', 'order_approved_at'], axis = 1)\n",
    "df = df.drop(['sell_lat', 'sell_lng', 'cust_lng', 'cust_lat'], axis = 1)"
   ]
  },
  {
   "cell_type": "code",
   "execution_count": 9,
   "id": "4ba8b9f9-01cf-49d1-bc48-caa5ec7a98d6",
   "metadata": {
    "execution": {
     "iopub.execute_input": "2025-08-19T13:46:51.380574Z",
     "iopub.status.busy": "2025-08-19T13:46:51.380574Z",
     "iopub.status.idle": "2025-08-19T13:46:51.460485Z",
     "shell.execute_reply": "2025-08-19T13:46:51.460485Z",
     "shell.execute_reply.started": "2025-08-19T13:46:51.380574Z"
    }
   },
   "outputs": [
    {
     "data": {
      "text/html": [
       "<div>\n",
       "<style scoped>\n",
       "    .dataframe tbody tr th:only-of-type {\n",
       "        vertical-align: middle;\n",
       "    }\n",
       "\n",
       "    .dataframe tbody tr th {\n",
       "        vertical-align: top;\n",
       "    }\n",
       "\n",
       "    .dataframe thead th {\n",
       "        text-align: right;\n",
       "    }\n",
       "</style>\n",
       "<table border=\"1\" class=\"dataframe\">\n",
       "  <thead>\n",
       "    <tr style=\"text-align: right;\">\n",
       "      <th></th>\n",
       "      <th>price</th>\n",
       "      <th>freight_value</th>\n",
       "      <th>product_category_name</th>\n",
       "      <th>product_weight_g</th>\n",
       "      <th>seller_state</th>\n",
       "      <th>customer_city</th>\n",
       "      <th>customer_state</th>\n",
       "      <th>review_score</th>\n",
       "      <th>is_late</th>\n",
       "      <th>item_volume</th>\n",
       "      <th>freight_to_price</th>\n",
       "      <th>order_day_week</th>\n",
       "      <th>order_week_year</th>\n",
       "      <th>night_order</th>\n",
       "      <th>approval_lag_hours</th>\n",
       "      <th>same_state</th>\n",
       "      <th>estimated_delivery_hours</th>\n",
       "      <th>distance_km</th>\n",
       "      <th>distance_hours</th>\n",
       "    </tr>\n",
       "  </thead>\n",
       "  <tbody>\n",
       "    <tr>\n",
       "      <th>0</th>\n",
       "      <td>29.99</td>\n",
       "      <td>8.72</td>\n",
       "      <td>utilidades_domesticas</td>\n",
       "      <td>500.0</td>\n",
       "      <td>SP</td>\n",
       "      <td>sao paulo</td>\n",
       "      <td>SP</td>\n",
       "      <td>4.0</td>\n",
       "      <td>0</td>\n",
       "      <td>1976.0</td>\n",
       "      <td>0.290764</td>\n",
       "      <td>0</td>\n",
       "      <td>40</td>\n",
       "      <td>0</td>\n",
       "      <td>0.2</td>\n",
       "      <td>1</td>\n",
       "      <td>373.0</td>\n",
       "      <td>21.775806</td>\n",
       "      <td>0.058380</td>\n",
       "    </tr>\n",
       "    <tr>\n",
       "      <th>1</th>\n",
       "      <td>118.70</td>\n",
       "      <td>22.76</td>\n",
       "      <td>other</td>\n",
       "      <td>400.0</td>\n",
       "      <td>SP</td>\n",
       "      <td>barreiras</td>\n",
       "      <td>other</td>\n",
       "      <td>4.0</td>\n",
       "      <td>0</td>\n",
       "      <td>4693.0</td>\n",
       "      <td>0.191744</td>\n",
       "      <td>1</td>\n",
       "      <td>30</td>\n",
       "      <td>1</td>\n",
       "      <td>30.7</td>\n",
       "      <td>0</td>\n",
       "      <td>459.0</td>\n",
       "      <td>869.634254</td>\n",
       "      <td>1.894628</td>\n",
       "    </tr>\n",
       "    <tr>\n",
       "      <th>2</th>\n",
       "      <td>159.90</td>\n",
       "      <td>19.22</td>\n",
       "      <td>automotivo</td>\n",
       "      <td>420.0</td>\n",
       "      <td>SP</td>\n",
       "      <td>vianopolis</td>\n",
       "      <td>other</td>\n",
       "      <td>5.0</td>\n",
       "      <td>0</td>\n",
       "      <td>9576.0</td>\n",
       "      <td>0.120200</td>\n",
       "      <td>2</td>\n",
       "      <td>32</td>\n",
       "      <td>0</td>\n",
       "      <td>0.3</td>\n",
       "      <td>0</td>\n",
       "      <td>639.0</td>\n",
       "      <td>514.362214</td>\n",
       "      <td>0.804949</td>\n",
       "    </tr>\n",
       "    <tr>\n",
       "      <th>3</th>\n",
       "      <td>45.00</td>\n",
       "      <td>27.20</td>\n",
       "      <td>other</td>\n",
       "      <td>450.0</td>\n",
       "      <td>MG</td>\n",
       "      <td>sao goncalo do amarante</td>\n",
       "      <td>other</td>\n",
       "      <td>5.0</td>\n",
       "      <td>0</td>\n",
       "      <td>6000.0</td>\n",
       "      <td>0.604444</td>\n",
       "      <td>5</td>\n",
       "      <td>46</td>\n",
       "      <td>0</td>\n",
       "      <td>0.3</td>\n",
       "      <td>0</td>\n",
       "      <td>628.0</td>\n",
       "      <td>1841.779324</td>\n",
       "      <td>2.932770</td>\n",
       "    </tr>\n",
       "    <tr>\n",
       "      <th>4</th>\n",
       "      <td>19.90</td>\n",
       "      <td>8.72</td>\n",
       "      <td>other</td>\n",
       "      <td>250.0</td>\n",
       "      <td>SP</td>\n",
       "      <td>santo andre</td>\n",
       "      <td>SP</td>\n",
       "      <td>5.0</td>\n",
       "      <td>0</td>\n",
       "      <td>11475.0</td>\n",
       "      <td>0.438191</td>\n",
       "      <td>1</td>\n",
       "      <td>7</td>\n",
       "      <td>1</td>\n",
       "      <td>1.0</td>\n",
       "      <td>1</td>\n",
       "      <td>290.0</td>\n",
       "      <td>35.927669</td>\n",
       "      <td>0.123889</td>\n",
       "    </tr>\n",
       "  </tbody>\n",
       "</table>\n",
       "</div>"
      ],
      "text/plain": [
       "    price  freight_value  product_category_name  product_weight_g  \\\n",
       "0   29.99           8.72  utilidades_domesticas             500.0   \n",
       "1  118.70          22.76                  other             400.0   \n",
       "2  159.90          19.22             automotivo             420.0   \n",
       "3   45.00          27.20                  other             450.0   \n",
       "4   19.90           8.72                  other             250.0   \n",
       "\n",
       "  seller_state            customer_city customer_state  review_score  is_late  \\\n",
       "0           SP                sao paulo             SP           4.0        0   \n",
       "1           SP                barreiras          other           4.0        0   \n",
       "2           SP               vianopolis          other           5.0        0   \n",
       "3           MG  sao goncalo do amarante          other           5.0        0   \n",
       "4           SP              santo andre             SP           5.0        0   \n",
       "\n",
       "   item_volume  freight_to_price  order_day_week  order_week_year  \\\n",
       "0       1976.0          0.290764               0               40   \n",
       "1       4693.0          0.191744               1               30   \n",
       "2       9576.0          0.120200               2               32   \n",
       "3       6000.0          0.604444               5               46   \n",
       "4      11475.0          0.438191               1                7   \n",
       "\n",
       "   night_order  approval_lag_hours  same_state  estimated_delivery_hours  \\\n",
       "0            0                 0.2           1                     373.0   \n",
       "1            1                30.7           0                     459.0   \n",
       "2            0                 0.3           0                     639.0   \n",
       "3            0                 0.3           0                     628.0   \n",
       "4            1                 1.0           1                     290.0   \n",
       "\n",
       "   distance_km  distance_hours  \n",
       "0    21.775806        0.058380  \n",
       "1   869.634254        1.894628  \n",
       "2   514.362214        0.804949  \n",
       "3  1841.779324        2.932770  \n",
       "4    35.927669        0.123889  "
      ]
     },
     "execution_count": 9,
     "metadata": {},
     "output_type": "execute_result"
    }
   ],
   "source": [
    "df.head()"
   ]
  },
  {
   "cell_type": "code",
   "execution_count": null,
   "id": "12557b47-7a74-46c0-ba3d-60008f5a484d",
   "metadata": {},
   "outputs": [],
   "source": []
  },
  {
   "cell_type": "code",
   "execution_count": 10,
   "id": "38b4a3d1-ebe0-499e-bc19-6404e65f8a48",
   "metadata": {
    "execution": {
     "iopub.execute_input": "2025-08-19T13:46:51.463694Z",
     "iopub.status.busy": "2025-08-19T13:46:51.463694Z",
     "iopub.status.idle": "2025-08-19T13:46:52.868633Z",
     "shell.execute_reply": "2025-08-19T13:46:52.868633Z",
     "shell.execute_reply.started": "2025-08-19T13:46:51.463694Z"
    }
   },
   "outputs": [
    {
     "name": "stdout",
     "output_type": "stream",
     "text": [
      "(110840, 4123)\n"
     ]
    }
   ],
   "source": [
    "# One hot encode\n",
    "columns_to_one_hot_encode = ['product_category_name','seller_state','customer_state']\n",
    "df = pd.get_dummies(df, columns=columns_to_one_hot_encode, drop_first=False)\n",
    "print(df.shape)"
   ]
  },
  {
   "cell_type": "code",
   "execution_count": 11,
   "id": "f8eef984-175a-4a1b-a129-e233bbfb1c20",
   "metadata": {
    "execution": {
     "iopub.execute_input": "2025-08-19T13:46:52.873836Z",
     "iopub.status.busy": "2025-08-19T13:46:52.873836Z",
     "iopub.status.idle": "2025-08-19T13:46:52.900823Z",
     "shell.execute_reply": "2025-08-19T13:46:52.900823Z",
     "shell.execute_reply.started": "2025-08-19T13:46:52.873836Z"
    }
   },
   "outputs": [],
   "source": [
    "# # Undersample\n",
    "\n",
    "# from imblearn.under_sampling import RandomUnderSampler\n",
    "\n",
    "# X = df.drop('is_late', axis=1)\n",
    "# y = df['is_late']\n",
    "\n",
    "# # sampling_strategy = desired_minority/majority ratio\n",
    "# # If you want majority(0) = 2 × minority(1) → ratio = 0.5\n",
    "# rus = RandomUnderSampler(sampling_strategy=0.25, random_state=42)\n",
    "\n",
    "# X_res, y_res = rus.fit_resample(X, y)\n",
    "\n",
    "# print(y_res.value_counts())"
   ]
  },
  {
   "cell_type": "code",
   "execution_count": 12,
   "id": "4e009e9e-583a-4abf-be41-adc0afdb592d",
   "metadata": {
    "execution": {
     "iopub.execute_input": "2025-08-19T13:46:52.913324Z",
     "iopub.status.busy": "2025-08-19T13:46:52.913324Z",
     "iopub.status.idle": "2025-08-19T13:47:14.188789Z",
     "shell.execute_reply": "2025-08-19T13:47:14.188789Z",
     "shell.execute_reply.started": "2025-08-19T13:46:52.913324Z"
    }
   },
   "outputs": [
    {
     "name": "stdout",
     "output_type": "stream",
     "text": [
      "is_late\n",
      "0    102085\n",
      "1      8755\n",
      "Name: count, dtype: int64\n"
     ]
    }
   ],
   "source": [
    "# Train test split\n",
    "\n",
    "from sklearn.model_selection import train_test_split\n",
    "X = df.drop(['is_late'], axis=1)\n",
    "y = df['is_late']\n",
    "\n",
    "X_train, X_test, y_train, y_test = train_test_split(X, y, test_size=0.2, random_state=21)\n",
    "print(y.value_counts())"
   ]
  },
  {
   "cell_type": "code",
   "execution_count": 13,
   "id": "b930fa64-4046-42e7-86db-4c1d84e6746d",
   "metadata": {
    "execution": {
     "iopub.execute_input": "2025-08-19T13:47:14.197877Z",
     "iopub.status.busy": "2025-08-19T13:47:14.195843Z",
     "iopub.status.idle": "2025-08-19T13:49:55.465760Z",
     "shell.execute_reply": "2025-08-19T13:49:55.463915Z",
     "shell.execute_reply.started": "2025-08-19T13:47:14.195843Z"
    }
   },
   "outputs": [
    {
     "name": "stdout",
     "output_type": "stream",
     "text": [
      "Accuracy: 0.8361151208949837\n",
      "F1: 0.41825460368294637\n",
      "ROC AUC: 0.8776592351960157\n",
      "              precision    recall  f1-score   support\n",
      "\n",
      "           0       0.98      0.84      0.90     20434\n",
      "           1       0.29      0.75      0.42      1734\n",
      "\n",
      "    accuracy                           0.84     22168\n",
      "   macro avg       0.63      0.80      0.66     22168\n",
      "weighted avg       0.92      0.84      0.87     22168\n",
      "\n"
     ]
    }
   ],
   "source": [
    "# XGBoost Baseline model\n",
    "\n",
    "import xgboost\n",
    "from xgboost import XGBClassifier\n",
    "from sklearn.metrics import accuracy_score, f1_score, roc_auc_score, classification_report\n",
    "\n",
    "baseline_model = XGBClassifier(\n",
    "    scale_pos_weight=11.6,   # 👈 imbalance handling\n",
    "    random_state=21\n",
    ")\n",
    "baseline_model.fit(X_train,y_train, verbose=1)\n",
    "y_pred = baseline_model.predict(X_test)\n",
    "y_proba = baseline_model.predict_proba(X_test)[:,1]\n",
    "\n",
    "print(\"Accuracy:\", accuracy_score(y_test, y_pred))\n",
    "print(\"F1:\", f1_score(y_test, y_pred))\n",
    "print(\"ROC AUC:\", roc_auc_score(y_test, y_proba))\n",
    "print(classification_report(y_test, y_pred))"
   ]
  },
  {
   "cell_type": "code",
   "execution_count": 14,
   "id": "9f45a465-378f-40bb-85d7-29d28985bd51",
   "metadata": {
    "execution": {
     "iopub.execute_input": "2025-08-19T13:49:55.469251Z",
     "iopub.status.busy": "2025-08-19T13:49:55.465760Z",
     "iopub.status.idle": "2025-08-19T13:49:55.476683Z",
     "shell.execute_reply": "2025-08-19T13:49:55.476683Z",
     "shell.execute_reply.started": "2025-08-19T13:49:55.468777Z"
    }
   },
   "outputs": [],
   "source": [
    "# Feature Importance check to evaluate feature engineering\n",
    "\n",
    "# import shap\n",
    "\n",
    "# # for tree models (RF/XGB)\n",
    "# explainer = shap.TreeExplainer(baseline_model)\n",
    "# shap_values = explainer.shap_values(X_test)\n",
    "\n",
    "# # summary plot\n",
    "# shap.summary_plot(shap_values, X_test)\n"
   ]
  },
  {
   "cell_type": "code",
   "execution_count": 15,
   "id": "edcd4f55-fa4e-4828-8db2-c18bc355b554",
   "metadata": {
    "execution": {
     "iopub.execute_input": "2025-08-19T13:49:55.481681Z",
     "iopub.status.busy": "2025-08-19T13:49:55.476683Z",
     "iopub.status.idle": "2025-08-19T13:51:39.680337Z",
     "shell.execute_reply": "2025-08-19T13:51:39.675340Z",
     "shell.execute_reply.started": "2025-08-19T13:49:55.481681Z"
    }
   },
   "outputs": [
    {
     "name": "stdout",
     "output_type": "stream",
     "text": [
      "Accuracy: 0.8065229159148322\n",
      "F1: 0.3605188608916058\n",
      "ROC AUC: 0.8338290074246971\n",
      "              precision    recall  f1-score   support\n",
      "\n",
      "           0       0.97      0.82      0.89     20434\n",
      "           1       0.24      0.70      0.36      1734\n",
      "\n",
      "    accuracy                           0.81     22168\n",
      "   macro avg       0.61      0.76      0.62     22168\n",
      "weighted avg       0.91      0.81      0.84     22168\n",
      "\n"
     ]
    }
   ],
   "source": [
    "# Random Forest\n",
    "\n",
    "from sklearn.ensemble import RandomForestClassifier\n",
    "from sklearn.metrics import accuracy_score, f1_score, roc_auc_score, classification_report\n",
    "\n",
    "clf = RandomForestClassifier(\n",
    "    n_estimators=300,\n",
    "    max_depth=20,\n",
    "    min_samples_leaf=5,\n",
    "    class_weight=\"balanced\",\n",
    "    n_jobs=-1,\n",
    "    random_state=21\n",
    ")\n",
    "clf.fit(X_train, y_train)\n",
    "\n",
    "y_proba = clf.predict_proba(X_test)[:, 1]\n",
    "y_pred  = (y_proba >= 0.5).astype(int)   # lower threshold to boost recall (threshold tuning)\n",
    "\n",
    "print(\"Accuracy:\", accuracy_score(y_test, y_pred))\n",
    "print(\"F1:\", f1_score(y_test, y_pred))\n",
    "print(\"ROC AUC:\", roc_auc_score(y_test, y_proba))\n",
    "print(classification_report(y_test, y_pred))\n"
   ]
  },
  {
   "cell_type": "code",
   "execution_count": null,
   "id": "b0a33bb6-dd52-40f0-80a8-97744914174a",
   "metadata": {},
   "outputs": [],
   "source": []
  },
  {
   "cell_type": "code",
   "execution_count": 16,
   "id": "0ea5eb49-c306-404f-9951-887094816dd5",
   "metadata": {
    "execution": {
     "iopub.execute_input": "2025-08-19T13:51:39.685286Z",
     "iopub.status.busy": "2025-08-19T13:51:39.683034Z",
     "iopub.status.idle": "2025-08-19T13:51:43.907274Z",
     "shell.execute_reply": "2025-08-19T13:51:43.905258Z",
     "shell.execute_reply.started": "2025-08-19T13:51:39.685286Z"
    }
   },
   "outputs": [
    {
     "data": {
      "image/png": "[encoded data removed]",
      "text/plain": [
       "<Figure size 640x480 with 1 Axes>"
      ]
     },
     "metadata": {},
     "output_type": "display_data"
    }
   ],
   "source": [
    "import numpy as np\n",
    "import matplotlib.pyplot as plt\n",
    "from sklearn.metrics import precision_score, recall_score, f1_score\n",
    "\n",
    "thresholds = np.linspace(0.05, 0.95, 19)\n",
    "precisions, recalls, f1s = [], [], []\n",
    "\n",
    "for t in thresholds:\n",
    "    y_pred = (y_proba >= t).astype(int)\n",
    "    precisions.append(precision_score(y_test, y_pred, zero_division=0))\n",
    "    recalls.append(recall_score(y_test, y_pred))\n",
    "    f1s.append(f1_score(y_test, y_pred))\n",
    "\n",
    "plt.plot(thresholds, precisions, label=\"Precision\")\n",
    "plt.plot(thresholds, recalls, label=\"Recall\")\n",
    "plt.plot(thresholds, f1s, label=\"F1-score\")\n",
    "plt.xlabel(\"Threshold\")\n",
    "plt.ylabel(\"Score\")\n",
    "plt.title(\"Precision / Recall / F1 vs Threshold (RF)\")\n",
    "plt.legend()\n",
    "plt.grid(True)\n",
    "plt.show()\n"
   ]
  },
  {
   "cell_type": "code",
   "execution_count": 17,
   "id": "5ce10f90-e78d-4b76-9b38-8e8afa609338",
   "metadata": {
    "execution": {
     "iopub.execute_input": "2025-08-19T13:51:43.913874Z",
     "iopub.status.busy": "2025-08-19T13:51:43.911846Z",
     "iopub.status.idle": "2025-08-19T13:51:43.926132Z",
     "shell.execute_reply": "2025-08-19T13:51:43.926132Z",
     "shell.execute_reply.started": "2025-08-19T13:51:43.913874Z"
    }
   },
   "outputs": [],
   "source": [
    "# # Cross Validation\n",
    "\n",
    "# from sklearn.model_selection import StratifiedKFold, cross_val_score\n",
    "# import numpy as np\n",
    "\n",
    "# cv = StratifiedKFold(n_splits=5, shuffle=True, random_state=21)\n",
    "\n",
    "# scores = cross_val_score(\n",
    "#     clf,\n",
    "#     X, y,\n",
    "#     cv=cv,\n",
    "#     scoring=\"f1\"\n",
    "# )\n",
    "\n",
    "# print(\"F1 mean:\", np.mean(scores))\n",
    "# print(\"F1 std:\", np.std(scores))\n",
    "\n",
    "#F1 mean: 0.43077018097704106\n",
    "#F1 std: 0.01434759129824481"
   ]
  },
  {
   "cell_type": "code",
   "execution_count": 18,
   "id": "8705b389-b82f-41ca-8066-cb765e173306",
   "metadata": {
    "execution": {
     "iopub.execute_input": "2025-08-19T13:51:43.930808Z",
     "iopub.status.busy": "2025-08-19T13:51:43.930808Z",
     "iopub.status.idle": "2025-08-19T13:51:43.939304Z",
     "shell.execute_reply": "2025-08-19T13:51:43.939304Z",
     "shell.execute_reply.started": "2025-08-19T13:51:43.930808Z"
    }
   },
   "outputs": [],
   "source": [
    "# Hyperparameter tuning\n",
    "\n",
    "# from sklearn.model_selection import GridSearchCV\n",
    "\n",
    "# param_grid = {\n",
    "#     'n_estimators': [100, 300, 500],\n",
    "#     'max_depth': [None, 10, 20],\n",
    "#     'min_samples_leaf': [1, 2, 5]\n",
    "# }\n",
    "\n",
    "# grid = GridSearchCV(\n",
    "#     RandomForestClassifier(class_weight=\"balanced\", random_state=21, n_jobs=-1),\n",
    "#     param_grid,\n",
    "#     scoring='f1',\n",
    "#     cv=3,\n",
    "#     n_jobs=-1\n",
    "# )\n",
    "# grid.fit(X_train, y_train)\n",
    "# print(\"Best params:\", grid.best_params_)\n",
    "# print(\"Best score:\", grid.best_score_)\n",
    "\n",
    "# Best params: {'max_depth': 20, 'min_samples_leaf': 5, 'n_estimators': 300}\n",
    "# Best score: 0.4033718414064435"
   ]
  },
  {
   "cell_type": "code",
   "execution_count": 19,
   "id": "34c35de7-831a-476f-9d5d-9c51b4390348",
   "metadata": {
    "execution": {
     "iopub.execute_input": "2025-08-19T13:51:43.944789Z",
     "iopub.status.busy": "2025-08-19T13:51:43.939304Z",
     "iopub.status.idle": "2025-08-19T13:52:18.315672Z",
     "shell.execute_reply": "2025-08-19T13:52:18.309483Z",
     "shell.execute_reply.started": "2025-08-19T13:51:43.944789Z"
    }
   },
   "outputs": [
    {
     "ename": "KeyboardInterrupt",
     "evalue": "",
     "output_type": "error",
     "traceback": [
      "\u001b[31m---------------------------------------------------------------------------\u001b[39m",
      "\u001b[31mKeyboardInterrupt\u001b[39m                         Traceback (most recent call last)",
      "\u001b[36mCell\u001b[39m\u001b[36m \u001b[39m\u001b[32mIn[19]\u001b[39m\u001b[32m, line 15\u001b[39m\n\u001b[32m      7\u001b[39m lgbm = LGBMClassifier(\n\u001b[32m      8\u001b[39m     n_estimators=\u001b[32m300\u001b[39m,\n\u001b[32m      9\u001b[39m     class_weight=\u001b[33m\"\u001b[39m\u001b[33mbalanced\u001b[39m\u001b[33m\"\u001b[39m, \u001b[38;5;66;03m# handle imbalance\u001b[39;00m\n\u001b[32m     10\u001b[39m     random_state=\u001b[32m21\u001b[39m,\n\u001b[32m     11\u001b[39m     n_jobs=-\u001b[32m1\u001b[39m\n\u001b[32m     12\u001b[39m )\n\u001b[32m     14\u001b[39m \u001b[38;5;66;03m# fit\u001b[39;00m\n\u001b[32m---> \u001b[39m\u001b[32m15\u001b[39m \u001b[43mlgbm\u001b[49m\u001b[43m.\u001b[49m\u001b[43mfit\u001b[49m\u001b[43m(\u001b[49m\u001b[43mX_train\u001b[49m\u001b[43m,\u001b[49m\u001b[43m \u001b[49m\u001b[43my_train\u001b[49m\u001b[43m)\u001b[49m\n\u001b[32m     17\u001b[39m \u001b[38;5;66;03m# predict\u001b[39;00m\n\u001b[32m     18\u001b[39m y_proba = lgbm.predict_proba(X_test)[:,\u001b[32m1\u001b[39m]\n",
      "\u001b[36mFile \u001b[39m\u001b[32m~\\AppData\\Local\\Programs\\Python\\Python312\\Lib\\site-packages\\lightgbm\\sklearn.py:1560\u001b[39m, in \u001b[36mLGBMClassifier.fit\u001b[39m\u001b[34m(self, X, y, sample_weight, init_score, eval_set, eval_names, eval_sample_weight, eval_class_weight, eval_init_score, eval_metric, feature_name, categorical_feature, callbacks, init_model)\u001b[39m\n\u001b[32m   1557\u001b[39m         \u001b[38;5;28;01melse\u001b[39;00m:\n\u001b[32m   1558\u001b[39m             valid_sets.append((valid_x, \u001b[38;5;28mself\u001b[39m._le.transform(valid_y)))\n\u001b[32m-> \u001b[39m\u001b[32m1560\u001b[39m \u001b[38;5;28;43msuper\u001b[39;49m\u001b[43m(\u001b[49m\u001b[43m)\u001b[49m\u001b[43m.\u001b[49m\u001b[43mfit\u001b[49m\u001b[43m(\u001b[49m\n\u001b[32m   1561\u001b[39m \u001b[43m    \u001b[49m\u001b[43mX\u001b[49m\u001b[43m,\u001b[49m\n\u001b[32m   1562\u001b[39m \u001b[43m    \u001b[49m\u001b[43m_y\u001b[49m\u001b[43m,\u001b[49m\n\u001b[32m   1563\u001b[39m \u001b[43m    \u001b[49m\u001b[43msample_weight\u001b[49m\u001b[43m=\u001b[49m\u001b[43msample_weight\u001b[49m\u001b[43m,\u001b[49m\n\u001b[32m   1564\u001b[39m \u001b[43m    \u001b[49m\u001b[43minit_score\u001b[49m\u001b[43m=\u001b[49m\u001b[43minit_score\u001b[49m\u001b[43m,\u001b[49m\n\u001b[32m   1565\u001b[39m \u001b[43m    \u001b[49m\u001b[43meval_set\u001b[49m\u001b[43m=\u001b[49m\u001b[43mvalid_sets\u001b[49m\u001b[43m,\u001b[49m\n\u001b[32m   1566\u001b[39m \u001b[43m    \u001b[49m\u001b[43meval_names\u001b[49m\u001b[43m=\u001b[49m\u001b[43meval_names\u001b[49m\u001b[43m,\u001b[49m\n\u001b[32m   1567\u001b[39m \u001b[43m    \u001b[49m\u001b[43meval_sample_weight\u001b[49m\u001b[43m=\u001b[49m\u001b[43meval_sample_weight\u001b[49m\u001b[43m,\u001b[49m\n\u001b[32m   1568\u001b[39m \u001b[43m    \u001b[49m\u001b[43meval_class_weight\u001b[49m\u001b[43m=\u001b[49m\u001b[43meval_class_weight\u001b[49m\u001b[43m,\u001b[49m\n\u001b[32m   1569\u001b[39m \u001b[43m    \u001b[49m\u001b[43meval_init_score\u001b[49m\u001b[43m=\u001b[49m\u001b[43meval_init_score\u001b[49m\u001b[43m,\u001b[49m\n\u001b[32m   1570\u001b[39m \u001b[43m    \u001b[49m\u001b[43meval_metric\u001b[49m\u001b[43m=\u001b[49m\u001b[43meval_metric\u001b[49m\u001b[43m,\u001b[49m\n\u001b[32m   1571\u001b[39m \u001b[43m    \u001b[49m\u001b[43mfeature_name\u001b[49m\u001b[43m=\u001b[49m\u001b[43mfeature_name\u001b[49m\u001b[43m,\u001b[49m\n\u001b[32m   1572\u001b[39m \u001b[43m    \u001b[49m\u001b[43mcategorical_feature\u001b[49m\u001b[43m=\u001b[49m\u001b[43mcategorical_feature\u001b[49m\u001b[43m,\u001b[49m\n\u001b[32m   1573\u001b[39m \u001b[43m    \u001b[49m\u001b[43mcallbacks\u001b[49m\u001b[43m=\u001b[49m\u001b[43mcallbacks\u001b[49m\u001b[43m,\u001b[49m\n\u001b[32m   1574\u001b[39m \u001b[43m    \u001b[49m\u001b[43minit_model\u001b[49m\u001b[43m=\u001b[49m\u001b[43minit_model\u001b[49m\u001b[43m,\u001b[49m\n\u001b[32m   1575\u001b[39m \u001b[43m\u001b[49m\u001b[43m)\u001b[49m\n\u001b[32m   1576\u001b[39m \u001b[38;5;28;01mreturn\u001b[39;00m \u001b[38;5;28mself\u001b[39m\n",
      "\u001b[36mFile \u001b[39m\u001b[32m~\\AppData\\Local\\Programs\\Python\\Python312\\Lib\\site-packages\\lightgbm\\sklearn.py:1049\u001b[39m, in \u001b[36mLGBMModel.fit\u001b[39m\u001b[34m(self, X, y, sample_weight, init_score, group, eval_set, eval_names, eval_sample_weight, eval_class_weight, eval_init_score, eval_group, eval_metric, feature_name, categorical_feature, callbacks, init_model)\u001b[39m\n\u001b[32m   1046\u001b[39m evals_result: _EvalResultDict = {}\n\u001b[32m   1047\u001b[39m callbacks.append(record_evaluation(evals_result))\n\u001b[32m-> \u001b[39m\u001b[32m1049\u001b[39m \u001b[38;5;28mself\u001b[39m._Booster = \u001b[43mtrain\u001b[49m\u001b[43m(\u001b[49m\n\u001b[32m   1050\u001b[39m \u001b[43m    \u001b[49m\u001b[43mparams\u001b[49m\u001b[43m=\u001b[49m\u001b[43mparams\u001b[49m\u001b[43m,\u001b[49m\n\u001b[32m   1051\u001b[39m \u001b[43m    \u001b[49m\u001b[43mtrain_set\u001b[49m\u001b[43m=\u001b[49m\u001b[43mtrain_set\u001b[49m\u001b[43m,\u001b[49m\n\u001b[32m   1052\u001b[39m \u001b[43m    \u001b[49m\u001b[43mnum_boost_round\u001b[49m\u001b[43m=\u001b[49m\u001b[38;5;28;43mself\u001b[39;49m\u001b[43m.\u001b[49m\u001b[43mn_estimators\u001b[49m\u001b[43m,\u001b[49m\n\u001b[32m   1053\u001b[39m \u001b[43m    \u001b[49m\u001b[43mvalid_sets\u001b[49m\u001b[43m=\u001b[49m\u001b[43mvalid_sets\u001b[49m\u001b[43m,\u001b[49m\n\u001b[32m   1054\u001b[39m \u001b[43m    \u001b[49m\u001b[43mvalid_names\u001b[49m\u001b[43m=\u001b[49m\u001b[43meval_names\u001b[49m\u001b[43m,\u001b[49m\n\u001b[32m   1055\u001b[39m \u001b[43m    \u001b[49m\u001b[43mfeval\u001b[49m\u001b[43m=\u001b[49m\u001b[43meval_metrics_callable\u001b[49m\u001b[43m,\u001b[49m\u001b[43m  \u001b[49m\u001b[38;5;66;43;03m# type: ignore[arg-type]\u001b[39;49;00m\n\u001b[32m   1056\u001b[39m \u001b[43m    \u001b[49m\u001b[43minit_model\u001b[49m\u001b[43m=\u001b[49m\u001b[43minit_model\u001b[49m\u001b[43m,\u001b[49m\n\u001b[32m   1057\u001b[39m \u001b[43m    \u001b[49m\u001b[43mcallbacks\u001b[49m\u001b[43m=\u001b[49m\u001b[43mcallbacks\u001b[49m\u001b[43m,\u001b[49m\n\u001b[32m   1058\u001b[39m \u001b[43m\u001b[49m\u001b[43m)\u001b[49m\n\u001b[32m   1060\u001b[39m \u001b[38;5;66;03m# This populates the property self.n_features_, the number of features in the fitted model,\u001b[39;00m\n\u001b[32m   1061\u001b[39m \u001b[38;5;66;03m# and so should only be set after fitting.\u001b[39;00m\n\u001b[32m   1062\u001b[39m \u001b[38;5;66;03m#\u001b[39;00m\n\u001b[32m   1063\u001b[39m \u001b[38;5;66;03m# The related property self._n_features_in, which populates self.n_features_in_,\u001b[39;00m\n\u001b[32m   1064\u001b[39m \u001b[38;5;66;03m# is set BEFORE fitting.\u001b[39;00m\n\u001b[32m   1065\u001b[39m \u001b[38;5;28mself\u001b[39m._n_features = \u001b[38;5;28mself\u001b[39m._Booster.num_feature()\n",
      "\u001b[36mFile \u001b[39m\u001b[32m~\\AppData\\Local\\Programs\\Python\\Python312\\Lib\\site-packages\\lightgbm\\engine.py:297\u001b[39m, in \u001b[36mtrain\u001b[39m\u001b[34m(params, train_set, num_boost_round, valid_sets, valid_names, feval, init_model, keep_training_booster, callbacks)\u001b[39m\n\u001b[32m    295\u001b[39m \u001b[38;5;66;03m# construct booster\u001b[39;00m\n\u001b[32m    296\u001b[39m \u001b[38;5;28;01mtry\u001b[39;00m:\n\u001b[32m--> \u001b[39m\u001b[32m297\u001b[39m     booster = \u001b[43mBooster\u001b[49m\u001b[43m(\u001b[49m\u001b[43mparams\u001b[49m\u001b[43m=\u001b[49m\u001b[43mparams\u001b[49m\u001b[43m,\u001b[49m\u001b[43m \u001b[49m\u001b[43mtrain_set\u001b[49m\u001b[43m=\u001b[49m\u001b[43mtrain_set\u001b[49m\u001b[43m)\u001b[49m\n\u001b[32m    298\u001b[39m     \u001b[38;5;28;01mif\u001b[39;00m is_valid_contain_train:\n\u001b[32m    299\u001b[39m         booster.set_train_data_name(train_data_name)\n",
      "\u001b[36mFile \u001b[39m\u001b[32m~\\AppData\\Local\\Programs\\Python\\Python312\\Lib\\site-packages\\lightgbm\\basic.py:3656\u001b[39m, in \u001b[36mBooster.__init__\u001b[39m\u001b[34m(self, params, train_set, model_file, model_str)\u001b[39m\n\u001b[32m   3649\u001b[39m     \u001b[38;5;28mself\u001b[39m.set_network(\n\u001b[32m   3650\u001b[39m         machines=machines,\n\u001b[32m   3651\u001b[39m         local_listen_port=params[\u001b[33m\"\u001b[39m\u001b[33mlocal_listen_port\u001b[39m\u001b[33m\"\u001b[39m],\n\u001b[32m   3652\u001b[39m         listen_time_out=params.get(\u001b[33m\"\u001b[39m\u001b[33mtime_out\u001b[39m\u001b[33m\"\u001b[39m, \u001b[32m120\u001b[39m),\n\u001b[32m   3653\u001b[39m         num_machines=params[\u001b[33m\"\u001b[39m\u001b[33mnum_machines\u001b[39m\u001b[33m\"\u001b[39m],\n\u001b[32m   3654\u001b[39m     )\n\u001b[32m   3655\u001b[39m \u001b[38;5;66;03m# construct booster object\u001b[39;00m\n\u001b[32m-> \u001b[39m\u001b[32m3656\u001b[39m \u001b[43mtrain_set\u001b[49m\u001b[43m.\u001b[49m\u001b[43mconstruct\u001b[49m\u001b[43m(\u001b[49m\u001b[43m)\u001b[49m\n\u001b[32m   3657\u001b[39m \u001b[38;5;66;03m# copy the parameters from train_set\u001b[39;00m\n\u001b[32m   3658\u001b[39m params.update(train_set.get_params())\n",
      "\u001b[36mFile \u001b[39m\u001b[32m~\\AppData\\Local\\Programs\\Python\\Python312\\Lib\\site-packages\\lightgbm\\basic.py:2590\u001b[39m, in \u001b[36mDataset.construct\u001b[39m\u001b[34m(self)\u001b[39m\n\u001b[32m   2585\u001b[39m             \u001b[38;5;28mself\u001b[39m._set_init_score_by_predictor(\n\u001b[32m   2586\u001b[39m                 predictor=\u001b[38;5;28mself\u001b[39m._predictor, data=\u001b[38;5;28mself\u001b[39m.data, used_indices=used_indices\n\u001b[32m   2587\u001b[39m             )\n\u001b[32m   2588\u001b[39m \u001b[38;5;28;01melse\u001b[39;00m:\n\u001b[32m   2589\u001b[39m     \u001b[38;5;66;03m# create train\u001b[39;00m\n\u001b[32m-> \u001b[39m\u001b[32m2590\u001b[39m     \u001b[38;5;28;43mself\u001b[39;49m\u001b[43m.\u001b[49m\u001b[43m_lazy_init\u001b[49m\u001b[43m(\u001b[49m\n\u001b[32m   2591\u001b[39m \u001b[43m        \u001b[49m\u001b[43mdata\u001b[49m\u001b[43m=\u001b[49m\u001b[38;5;28;43mself\u001b[39;49m\u001b[43m.\u001b[49m\u001b[43mdata\u001b[49m\u001b[43m,\u001b[49m\n\u001b[32m   2592\u001b[39m \u001b[43m        \u001b[49m\u001b[43mlabel\u001b[49m\u001b[43m=\u001b[49m\u001b[38;5;28;43mself\u001b[39;49m\u001b[43m.\u001b[49m\u001b[43mlabel\u001b[49m\u001b[43m,\u001b[49m\n\u001b[32m   2593\u001b[39m \u001b[43m        \u001b[49m\u001b[43mreference\u001b[49m\u001b[43m=\u001b[49m\u001b[38;5;28;43;01mNone\u001b[39;49;00m\u001b[43m,\u001b[49m\n\u001b[32m   2594\u001b[39m \u001b[43m        \u001b[49m\u001b[43mweight\u001b[49m\u001b[43m=\u001b[49m\u001b[38;5;28;43mself\u001b[39;49m\u001b[43m.\u001b[49m\u001b[43mweight\u001b[49m\u001b[43m,\u001b[49m\n\u001b[32m   2595\u001b[39m \u001b[43m        \u001b[49m\u001b[43mgroup\u001b[49m\u001b[43m=\u001b[49m\u001b[38;5;28;43mself\u001b[39;49m\u001b[43m.\u001b[49m\u001b[43mgroup\u001b[49m\u001b[43m,\u001b[49m\n\u001b[32m   2596\u001b[39m \u001b[43m        \u001b[49m\u001b[43minit_score\u001b[49m\u001b[43m=\u001b[49m\u001b[38;5;28;43mself\u001b[39;49m\u001b[43m.\u001b[49m\u001b[43minit_score\u001b[49m\u001b[43m,\u001b[49m\n\u001b[32m   2597\u001b[39m \u001b[43m        \u001b[49m\u001b[43mpredictor\u001b[49m\u001b[43m=\u001b[49m\u001b[38;5;28;43mself\u001b[39;49m\u001b[43m.\u001b[49m\u001b[43m_predictor\u001b[49m\u001b[43m,\u001b[49m\n\u001b[32m   2598\u001b[39m \u001b[43m        \u001b[49m\u001b[43mfeature_name\u001b[49m\u001b[43m=\u001b[49m\u001b[38;5;28;43mself\u001b[39;49m\u001b[43m.\u001b[49m\u001b[43mfeature_name\u001b[49m\u001b[43m,\u001b[49m\n\u001b[32m   2599\u001b[39m \u001b[43m        \u001b[49m\u001b[43mcategorical_feature\u001b[49m\u001b[43m=\u001b[49m\u001b[38;5;28;43mself\u001b[39;49m\u001b[43m.\u001b[49m\u001b[43mcategorical_feature\u001b[49m\u001b[43m,\u001b[49m\n\u001b[32m   2600\u001b[39m \u001b[43m        \u001b[49m\u001b[43mparams\u001b[49m\u001b[43m=\u001b[49m\u001b[38;5;28;43mself\u001b[39;49m\u001b[43m.\u001b[49m\u001b[43mparams\u001b[49m\u001b[43m,\u001b[49m\n\u001b[32m   2601\u001b[39m \u001b[43m        \u001b[49m\u001b[43mposition\u001b[49m\u001b[43m=\u001b[49m\u001b[38;5;28;43mself\u001b[39;49m\u001b[43m.\u001b[49m\u001b[43mposition\u001b[49m\u001b[43m,\u001b[49m\n\u001b[32m   2602\u001b[39m \u001b[43m    \u001b[49m\u001b[43m)\u001b[49m\n\u001b[32m   2603\u001b[39m \u001b[38;5;28;01mif\u001b[39;00m \u001b[38;5;28mself\u001b[39m.free_raw_data:\n\u001b[32m   2604\u001b[39m     \u001b[38;5;28mself\u001b[39m.data = \u001b[38;5;28;01mNone\u001b[39;00m\n",
      "\u001b[36mFile \u001b[39m\u001b[32m~\\AppData\\Local\\Programs\\Python\\Python312\\Lib\\site-packages\\lightgbm\\basic.py:2187\u001b[39m, in \u001b[36mDataset._lazy_init\u001b[39m\u001b[34m(self, data, label, reference, weight, group, init_score, predictor, feature_name, categorical_feature, params, position)\u001b[39m\n\u001b[32m   2185\u001b[39m     \u001b[38;5;28mself\u001b[39m.__init_from_csc(data, params_str, ref_dataset)\n\u001b[32m   2186\u001b[39m \u001b[38;5;28;01melif\u001b[39;00m \u001b[38;5;28misinstance\u001b[39m(data, np.ndarray):\n\u001b[32m-> \u001b[39m\u001b[32m2187\u001b[39m     \u001b[38;5;28;43mself\u001b[39;49m\u001b[43m.\u001b[49m\u001b[43m__init_from_np2d\u001b[49m\u001b[43m(\u001b[49m\u001b[43mdata\u001b[49m\u001b[43m,\u001b[49m\u001b[43m \u001b[49m\u001b[43mparams_str\u001b[49m\u001b[43m,\u001b[49m\u001b[43m \u001b[49m\u001b[43mref_dataset\u001b[49m\u001b[43m)\u001b[49m\n\u001b[32m   2188\u001b[39m \u001b[38;5;28;01melif\u001b[39;00m _is_pyarrow_table(data):\n\u001b[32m   2189\u001b[39m     \u001b[38;5;28mself\u001b[39m.__init_from_pyarrow_table(data, params_str, ref_dataset)\n",
      "\u001b[36mFile \u001b[39m\u001b[32m~\\AppData\\Local\\Programs\\Python\\Python312\\Lib\\site-packages\\lightgbm\\basic.py:2319\u001b[39m, in \u001b[36mDataset.__init_from_np2d\u001b[39m\u001b[34m(self, mat, params_str, ref_dataset)\u001b[39m\n\u001b[32m   2316\u001b[39m data, layout = _np2d_to_np1d(mat)\n\u001b[32m   2317\u001b[39m ptr_data, type_ptr_data, _ = _c_float_array(data)\n\u001b[32m   2318\u001b[39m _safe_call(\n\u001b[32m-> \u001b[39m\u001b[32m2319\u001b[39m     \u001b[43m_LIB\u001b[49m\u001b[43m.\u001b[49m\u001b[43mLGBM_DatasetCreateFromMat\u001b[49m\u001b[43m(\u001b[49m\n\u001b[32m   2320\u001b[39m \u001b[43m        \u001b[49m\u001b[43mptr_data\u001b[49m\u001b[43m,\u001b[49m\n\u001b[32m   2321\u001b[39m \u001b[43m        \u001b[49m\u001b[43mctypes\u001b[49m\u001b[43m.\u001b[49m\u001b[43mc_int\u001b[49m\u001b[43m(\u001b[49m\u001b[43mtype_ptr_data\u001b[49m\u001b[43m)\u001b[49m\u001b[43m,\u001b[49m\n\u001b[32m   2322\u001b[39m \u001b[43m        \u001b[49m\u001b[43mctypes\u001b[49m\u001b[43m.\u001b[49m\u001b[43mc_int32\u001b[49m\u001b[43m(\u001b[49m\u001b[43mmat\u001b[49m\u001b[43m.\u001b[49m\u001b[43mshape\u001b[49m\u001b[43m[\u001b[49m\u001b[32;43m0\u001b[39;49m\u001b[43m]\u001b[49m\u001b[43m)\u001b[49m\u001b[43m,\u001b[49m\n\u001b[32m   2323\u001b[39m \u001b[43m        \u001b[49m\u001b[43mctypes\u001b[49m\u001b[43m.\u001b[49m\u001b[43mc_int32\u001b[49m\u001b[43m(\u001b[49m\u001b[43mmat\u001b[49m\u001b[43m.\u001b[49m\u001b[43mshape\u001b[49m\u001b[43m[\u001b[49m\u001b[32;43m1\u001b[39;49m\u001b[43m]\u001b[49m\u001b[43m)\u001b[49m\u001b[43m,\u001b[49m\n\u001b[32m   2324\u001b[39m \u001b[43m        \u001b[49m\u001b[43mctypes\u001b[49m\u001b[43m.\u001b[49m\u001b[43mc_int\u001b[49m\u001b[43m(\u001b[49m\u001b[43mlayout\u001b[49m\u001b[43m)\u001b[49m\u001b[43m,\u001b[49m\n\u001b[32m   2325\u001b[39m \u001b[43m        \u001b[49m\u001b[43m_c_str\u001b[49m\u001b[43m(\u001b[49m\u001b[43mparams_str\u001b[49m\u001b[43m)\u001b[49m\u001b[43m,\u001b[49m\n\u001b[32m   2326\u001b[39m \u001b[43m        \u001b[49m\u001b[43mref_dataset\u001b[49m\u001b[43m,\u001b[49m\n\u001b[32m   2327\u001b[39m \u001b[43m        \u001b[49m\u001b[43mctypes\u001b[49m\u001b[43m.\u001b[49m\u001b[43mbyref\u001b[49m\u001b[43m(\u001b[49m\u001b[38;5;28;43mself\u001b[39;49m\u001b[43m.\u001b[49m\u001b[43m_handle\u001b[49m\u001b[43m)\u001b[49m\u001b[43m,\u001b[49m\n\u001b[32m   2328\u001b[39m \u001b[43m    \u001b[49m\u001b[43m)\u001b[49m\n\u001b[32m   2329\u001b[39m )\n\u001b[32m   2330\u001b[39m \u001b[38;5;28;01mreturn\u001b[39;00m \u001b[38;5;28mself\u001b[39m\n",
      "\u001b[31mKeyboardInterrupt\u001b[39m: "
     ]
    }
   ],
   "source": [
    "# LGM Classifier \n",
    "\n",
    "from lightgbm import LGBMClassifier\n",
    "from sklearn.metrics import accuracy_score, f1_score, roc_auc_score, classification_report\n",
    "\n",
    "# model\n",
    "lgbm = LGBMClassifier(\n",
    "    n_estimators=300,\n",
    "    class_weight=\"balanced\", # handle imbalance\n",
    "    random_state=21,\n",
    "    n_jobs=-1\n",
    ")\n",
    "\n",
    "# fit\n",
    "lgbm.fit(X_train, y_train)\n",
    "\n",
    "# predict\n",
    "y_proba = lgbm.predict_proba(X_test)[:,1]\n",
    "y_pred  = (y_proba >= 0.74).astype(int)   # adjust threshold\n",
    "\n",
    "print(\"Accuracy:\", accuracy_score(y_test, y_pred))\n",
    "print(\"F1:\", f1_score(y_test, y_pred))\n",
    "print(\"ROC AUC:\", roc_auc_score(y_test, y_proba))\n",
    "print(classification_report(y_test, y_pred))\n"
   ]
  },
  {
   "cell_type": "code",
   "execution_count": null,
   "id": "48b75ef9-89fd-4263-927f-fc49b9a4a628",
   "metadata": {},
   "outputs": [],
   "source": []
  },
  {
   "cell_type": "code",
   "execution_count": null,
   "id": "3996196e-6ff9-43ab-98f2-9ce8c2a3c179",
   "metadata": {
    "execution": {
     "iopub.status.busy": "2025-08-19T13:52:18.319111Z",
     "iopub.status.idle": "2025-08-19T13:52:18.321522Z",
     "shell.execute_reply": "2025-08-19T13:52:18.321522Z",
     "shell.execute_reply.started": "2025-08-19T13:52:18.321522Z"
    }
   },
   "outputs": [],
   "source": [
    "# catboost Classifier \n",
    "\n",
    "from catboost import CatBoostClassifier\n",
    "\n",
    "# model\n",
    "cat = CatBoostClassifier(\n",
    "    iterations=300,\n",
    "    learning_rate=0.05,\n",
    "    class_weights=[1, 12],   # ratio ~1:12 for imbalance\n",
    "    random_seed=21,\n",
    "    verbose=100\n",
    ")\n",
    "\n",
    "# fit (if you have raw categoricals, pass cat_features=[list of column indices])\n",
    "cat.fit(X_train, y_train)\n",
    "\n",
    "# predict\n",
    "y_proba = cat.predict_proba(X_test)[:,1]\n",
    "y_pred  = (y_proba >= 0.65).astype(int)\n",
    "\n",
    "print(\"Accuracy:\", accuracy_score(y_test, y_pred))\n",
    "print(\"F1:\", f1_score(y_test, y_pred))\n",
    "print(\"ROC AUC:\", roc_auc_score(y_test, y_proba))\n",
    "print(classification_report(y_test, y_pred))"
   ]
  },
  {
   "cell_type": "code",
   "execution_count": null,
   "id": "fa860e09-de2b-4f68-bc3c-eb0f58d65d7e",
   "metadata": {},
   "outputs": [],
   "source": []
  },
  {
   "cell_type": "code",
   "execution_count": null,
   "id": "64a2042a-781b-4f90-a7c4-587496038771",
   "metadata": {},
   "outputs": [],
   "source": []
  },
  {
   "cell_type": "code",
   "execution_count": null,
   "id": "cfd4d1f9-7a91-4fad-a9c7-624955ec0d13",
   "metadata": {},
   "outputs": [],
   "source": []
  }
 ],
 "metadata": {
  "kernelspec": {
   "display_name": "Python 3 (ipykernel)",
   "language": "python",
   "name": "python3"
  },
  "language_info": {
   "codemirror_mode": {
    "name": "ipython",
    "version": 3
   },
   "file_extension": ".py",
   "mimetype": "text/x-python",
   "name": "python",
   "nbconvert_exporter": "python",
   "pygments_lexer": "ipython3",
   "version": "3.12.5"
  }
 },
 "nbformat": 4,
 "nbformat_minor": 5
}
